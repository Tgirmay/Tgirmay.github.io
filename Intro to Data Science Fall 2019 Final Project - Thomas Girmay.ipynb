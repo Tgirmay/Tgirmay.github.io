{
 "cells": [
  {
   "cell_type": "markdown",
   "metadata": {},
   "source": [
    "Github:https://tgirmay.github.io/"
   ]
  },
  {
   "cell_type": "markdown",
   "metadata": {},
   "source": [
    "# Intro to Data Science Fall 2019 Final Project\n",
    "Project by: Thomas Girmay \n",
    "\n",
    "Over the years, many people have claimed that the number of violent crimes in the United States has been a result of the increase in violent video games. Over the last couple decades, many news outlets headline articles about a criminal who committed a very violent crime being \"obsessed with violent videogames\" and that being the reason for thier actions. Other studues have been conducted to find see if playing violent video games and violent behavoiours or correlations between the two.\n",
    "This debate has devolved into some groups blaming video games as a whole and not just the violent genres. Though there have been many studies and papers published disproving this thought, many people still beleive a correlation exists.This tutorial aims to see how the number of violent crimes compares with the sales of violent video games. If the rise of these games cause violence, there should be a significant correlation between the two.\n",
    "\n",
    "I will be using the [Video Game Sales dataset](https://www.kaggle.com/umeshnarayanappa/explore-video-games-sales/data) found on Kaggle and view the data on sales of games of the genre \"Shooter\", for this is considered by many as the most violent genre because games in this category depict the player or other people doing these violent crimes. I will compare this dataset with the [State Crime](https://think.cs.vt.edu/corgis/csv/state_crime/) Dataset fron the CORGIS Dataset Project. \n",
    "\n",
    "\n",
    "\n"
   ]
  },
  {
   "cell_type": "markdown",
   "metadata": {},
   "source": [
    "# Crimes Data\n",
    "First, Lets import the states crimes csv file into a bandas dataset and only select the columns we need: Year, State, Violent Crime Rate. Then, lets calculate the total number of violent crimes per year and store this data in a new dataframe."
   ]
  },
  {
   "cell_type": "code",
   "execution_count": 1,
   "metadata": {
    "scrolled": true
   },
   "outputs": [
    {
     "data": {
      "text/html": [
       "<div>\n",
       "<style scoped>\n",
       "    .dataframe tbody tr th:only-of-type {\n",
       "        vertical-align: middle;\n",
       "    }\n",
       "\n",
       "    .dataframe tbody tr th {\n",
       "        vertical-align: top;\n",
       "    }\n",
       "\n",
       "    .dataframe thead th {\n",
       "        text-align: right;\n",
       "    }\n",
       "</style>\n",
       "<table border=\"1\" class=\"dataframe\">\n",
       "  <thead>\n",
       "    <tr style=\"text-align: right;\">\n",
       "      <th></th>\n",
       "      <th>Year</th>\n",
       "      <th>State</th>\n",
       "      <th>Data.Rates.Violent.All</th>\n",
       "    </tr>\n",
       "  </thead>\n",
       "  <tbody>\n",
       "    <tr>\n",
       "      <th>0</th>\n",
       "      <td>1960</td>\n",
       "      <td>Alabama</td>\n",
       "      <td>186.6</td>\n",
       "    </tr>\n",
       "    <tr>\n",
       "      <th>1</th>\n",
       "      <td>1961</td>\n",
       "      <td>Alabama</td>\n",
       "      <td>168.5</td>\n",
       "    </tr>\n",
       "    <tr>\n",
       "      <th>2</th>\n",
       "      <td>1962</td>\n",
       "      <td>Alabama</td>\n",
       "      <td>157.3</td>\n",
       "    </tr>\n",
       "    <tr>\n",
       "      <th>3</th>\n",
       "      <td>1963</td>\n",
       "      <td>Alabama</td>\n",
       "      <td>182.7</td>\n",
       "    </tr>\n",
       "    <tr>\n",
       "      <th>4</th>\n",
       "      <td>1964</td>\n",
       "      <td>Alabama</td>\n",
       "      <td>213.1</td>\n",
       "    </tr>\n",
       "  </tbody>\n",
       "</table>\n",
       "</div>"
      ],
      "text/plain": [
       "   Year    State  Data.Rates.Violent.All\n",
       "0  1960  Alabama                   186.6\n",
       "1  1961  Alabama                   168.5\n",
       "2  1962  Alabama                   157.3\n",
       "3  1963  Alabama                   182.7\n",
       "4  1964  Alabama                   213.1"
      ]
     },
     "metadata": {},
     "output_type": "display_data"
    }
   ],
   "source": [
    "import pandas as pd\n",
    "import glob\n",
    "import numpy as np\n",
    "from scipy import stats\n",
    "import matplotlib.pyplot as plt\n",
    "\n",
    "crimesDf =  pd.read_csv(\".\\state_crime.csv\")\n",
    "crimesDf = crimesDf[[ \"Year\", \"State\",\"Data.Rates.Violent.All\"]]\n",
    "display(crimesDf.head())\n",
    "#Grab the unique years and store them\n",
    "years = crimesDf[\"Year\"].unique()\n",
    "crimePerYear = {}\n",
    "\n",
    "#initialize all values for the years in the dict to 0\n",
    "for year in years:\n",
    "    crimePerYear[year] = 0\n",
    "    \n",
    "#for each year, iterate through the dataset and add the number of violent crimes per state to the count for the year\n",
    "for year in years:\n",
    "    for index, row in crimesDf.iterrows():\n",
    "        if row[\"Year\"] == year:\n",
    "            crimePerYear[year] += row[\"Data.Rates.Violent.All\"]"
   ]
  },
  {
   "cell_type": "code",
   "execution_count": 2,
   "metadata": {},
   "outputs": [
    {
     "data": {
      "text/html": [
       "<div>\n",
       "<style scoped>\n",
       "    .dataframe tbody tr th:only-of-type {\n",
       "        vertical-align: middle;\n",
       "    }\n",
       "\n",
       "    .dataframe tbody tr th {\n",
       "        vertical-align: top;\n",
       "    }\n",
       "\n",
       "    .dataframe thead th {\n",
       "        text-align: right;\n",
       "    }\n",
       "</style>\n",
       "<table border=\"1\" class=\"dataframe\">\n",
       "  <thead>\n",
       "    <tr style=\"text-align: right;\">\n",
       "      <th></th>\n",
       "      <th>Total_Crimes</th>\n",
       "    </tr>\n",
       "  </thead>\n",
       "  <tbody>\n",
       "    <tr>\n",
       "      <th>1960</th>\n",
       "      <td>5904.2</td>\n",
       "    </tr>\n",
       "    <tr>\n",
       "      <th>1961</th>\n",
       "      <td>5802.6</td>\n",
       "    </tr>\n",
       "    <tr>\n",
       "      <th>1962</th>\n",
       "      <td>5889.9</td>\n",
       "    </tr>\n",
       "    <tr>\n",
       "      <th>1963</th>\n",
       "      <td>6212.3</td>\n",
       "    </tr>\n",
       "    <tr>\n",
       "      <th>1964</th>\n",
       "      <td>7552.7</td>\n",
       "    </tr>\n",
       "  </tbody>\n",
       "</table>\n",
       "</div>"
      ],
      "text/plain": [
       "      Total_Crimes\n",
       "1960        5904.2\n",
       "1961        5802.6\n",
       "1962        5889.9\n",
       "1963        6212.3\n",
       "1964        7552.7"
      ]
     },
     "metadata": {},
     "output_type": "display_data"
    },
    {
     "data": {
      "text/plain": [
       "<matplotlib.axes._subplots.AxesSubplot at 0x21ac9029c88>"
      ]
     },
     "execution_count": 2,
     "metadata": {},
     "output_type": "execute_result"
    },
    {
     "data": {
      "image/png": "[encoded data removed]",
      "text/plain": [
       "<Figure size 432x288 with 1 Axes>"
      ]
     },
     "metadata": {
      "needs_background": "light"
     },
     "output_type": "display_data"
    }
   ],
   "source": [
    "crimesOverYearsDf = pd.Series(crimePerYear, name ='Total_Crimes').to_frame()\n",
    "\n",
    "display(crimesOverYearsDf.head())\n",
    "crimesOverYearsDf.plot.line(title = \"Number Of Violent Crimes Per Year\")"
   ]
  },
  {
   "cell_type": "markdown",
   "metadata": {},
   "source": [
    "We now have a table and line graph of the number of violent crimes in the US over time. Next, lets process our game sale data."
   ]
  },
  {
   "cell_type": "markdown",
   "metadata": {},
   "source": [
    "# Games Data "
   ]
  },
  {
   "cell_type": "markdown",
   "metadata": {},
   "source": [
    "Like before, Let's edit our dataframe to only include the data we need. Lets grab the Sales, Genre, and Year columns and total the sales by year."
   ]
  },
  {
   "cell_type": "code",
   "execution_count": 3,
   "metadata": {},
   "outputs": [],
   "source": [
    "gamesDf = pd.read_csv(\".\\gamesales.csv\")\n",
    "genres = gamesDf[\"Genre\"].unique()\n",
    "years = gamesDf[\"Year\"].unique()\n",
    "\n",
    "salesPerGenreOverYears = {}\n",
    "\n",
    "for genre in genres:\n",
    "    for year in years:\n",
    "        salesPerGenreOverYears[year,genre] = 0\n",
    "    \n",
    "for index, row in gamesDf.iterrows():\n",
    "    if((row[\"Year\"] in years) & (row[\"Genre\"] in genres)):\n",
    "        salesPerGenreOverYears[row[\"Year\"],row[\"Genre\"]] += row[\"NA_Sales\"]\n",
    "#Sales are in Millions"
   ]
  },
  {
   "cell_type": "markdown",
   "metadata": {},
   "source": [
    "Now that we have calculated the number of sales by year and genre, let us look at our current dataframe."
   ]
  },
  {
   "cell_type": "code",
   "execution_count": 4,
   "metadata": {},
   "outputs": [
    {
     "data": {
      "text/html": [
       "<div>\n",
       "<style scoped>\n",
       "    .dataframe tbody tr th:only-of-type {\n",
       "        vertical-align: middle;\n",
       "    }\n",
       "\n",
       "    .dataframe tbody tr th {\n",
       "        vertical-align: top;\n",
       "    }\n",
       "\n",
       "    .dataframe thead th {\n",
       "        text-align: right;\n",
       "    }\n",
       "</style>\n",
       "<table border=\"1\" class=\"dataframe\">\n",
       "  <thead>\n",
       "    <tr style=\"text-align: right;\">\n",
       "      <th></th>\n",
       "      <th></th>\n",
       "      <th>Sales</th>\n",
       "    </tr>\n",
       "  </thead>\n",
       "  <tbody>\n",
       "    <tr>\n",
       "      <th>2006.0</th>\n",
       "      <th>Sports</th>\n",
       "      <td>72.91</td>\n",
       "    </tr>\n",
       "    <tr>\n",
       "      <th>1985.0</th>\n",
       "      <th>Sports</th>\n",
       "      <td>0.18</td>\n",
       "    </tr>\n",
       "    <tr>\n",
       "      <th>2008.0</th>\n",
       "      <th>Sports</th>\n",
       "      <td>48.92</td>\n",
       "    </tr>\n",
       "    <tr>\n",
       "      <th>2009.0</th>\n",
       "      <th>Sports</th>\n",
       "      <td>71.47</td>\n",
       "    </tr>\n",
       "    <tr>\n",
       "      <th>1996.0</th>\n",
       "      <th>Sports</th>\n",
       "      <td>7.78</td>\n",
       "    </tr>\n",
       "  </tbody>\n",
       "</table>\n",
       "</div>"
      ],
      "text/plain": [
       "               Sales\n",
       "2006.0 Sports  72.91\n",
       "1985.0 Sports   0.18\n",
       "2008.0 Sports  48.92\n",
       "2009.0 Sports  71.47\n",
       "1996.0 Sports   7.78"
      ]
     },
     "execution_count": 4,
     "metadata": {},
     "output_type": "execute_result"
    }
   ],
   "source": [
    "#store data set by genre in df\n",
    "genreSalesDf = pd.Series(salesPerGenreOverYears, name ='Sales').to_frame()\n",
    "genreSalesDf.head()"
   ]
  },
  {
   "cell_type": "markdown",
   "metadata": {},
   "source": [
    "Since our dictionary had two keys, the resulting dataframe has two indices. To make the processing easier, lets get rid of this and add some column names."
   ]
  },
  {
   "cell_type": "code",
   "execution_count": 5,
   "metadata": {},
   "outputs": [
    {
     "data": {
      "text/html": [
       "<div>\n",
       "<style scoped>\n",
       "    .dataframe tbody tr th:only-of-type {\n",
       "        vertical-align: middle;\n",
       "    }\n",
       "\n",
       "    .dataframe tbody tr th {\n",
       "        vertical-align: top;\n",
       "    }\n",
       "\n",
       "    .dataframe thead th {\n",
       "        text-align: right;\n",
       "    }\n",
       "</style>\n",
       "<table border=\"1\" class=\"dataframe\">\n",
       "  <thead>\n",
       "    <tr style=\"text-align: right;\">\n",
       "      <th></th>\n",
       "      <th>Genre</th>\n",
       "      <th>Year</th>\n",
       "      <th>Sales_in_Millions</th>\n",
       "    </tr>\n",
       "  </thead>\n",
       "  <tbody>\n",
       "    <tr>\n",
       "      <th>0</th>\n",
       "      <td>Sports</td>\n",
       "      <td>2006.0</td>\n",
       "      <td>72.91</td>\n",
       "    </tr>\n",
       "    <tr>\n",
       "      <th>1</th>\n",
       "      <td>Sports</td>\n",
       "      <td>1985.0</td>\n",
       "      <td>0.18</td>\n",
       "    </tr>\n",
       "    <tr>\n",
       "      <th>2</th>\n",
       "      <td>Sports</td>\n",
       "      <td>2008.0</td>\n",
       "      <td>48.92</td>\n",
       "    </tr>\n",
       "    <tr>\n",
       "      <th>3</th>\n",
       "      <td>Sports</td>\n",
       "      <td>2009.0</td>\n",
       "      <td>71.47</td>\n",
       "    </tr>\n",
       "    <tr>\n",
       "      <th>4</th>\n",
       "      <td>Sports</td>\n",
       "      <td>1996.0</td>\n",
       "      <td>7.78</td>\n",
       "    </tr>\n",
       "  </tbody>\n",
       "</table>\n",
       "</div>"
      ],
      "text/plain": [
       "    Genre    Year  Sales_in_Millions\n",
       "0  Sports  2006.0              72.91\n",
       "1  Sports  1985.0               0.18\n",
       "2  Sports  2008.0              48.92\n",
       "3  Sports  2009.0              71.47\n",
       "4  Sports  1996.0               7.78"
      ]
     },
     "execution_count": 5,
     "metadata": {},
     "output_type": "execute_result"
    }
   ],
   "source": [
    "#remove the double indexing\n",
    "genreSalesDf.reset_index(level = 0, inplace = True )\n",
    "genreSalesDf.reset_index(level = 0, inplace = True )\n",
    "genreSalesDf.columns = [\"Genre\", \"Year\", \"Sales_in_Millions\"]\n",
    "genreSalesDf.head()"
   ]
  },
  {
   "cell_type": "markdown",
   "metadata": {},
   "source": [
    "Now we can calculate the number of sales of shooters over the years in a similar manner as we did with the violent crimes. "
   ]
  },
  {
   "cell_type": "code",
   "execution_count": 6,
   "metadata": {},
   "outputs": [
    {
     "data": {
      "text/html": [
       "<div>\n",
       "<style scoped>\n",
       "    .dataframe tbody tr th:only-of-type {\n",
       "        vertical-align: middle;\n",
       "    }\n",
       "\n",
       "    .dataframe tbody tr th {\n",
       "        vertical-align: top;\n",
       "    }\n",
       "\n",
       "    .dataframe thead th {\n",
       "        text-align: right;\n",
       "    }\n",
       "</style>\n",
       "<table border=\"1\" class=\"dataframe\">\n",
       "  <thead>\n",
       "    <tr style=\"text-align: right;\">\n",
       "      <th></th>\n",
       "      <th>Sales_in_Millions</th>\n",
       "    </tr>\n",
       "    <tr>\n",
       "      <th>Year</th>\n",
       "      <th></th>\n",
       "    </tr>\n",
       "  </thead>\n",
       "  <tbody>\n",
       "    <tr>\n",
       "      <th>1980.0</th>\n",
       "      <td>6.56</td>\n",
       "    </tr>\n",
       "    <tr>\n",
       "      <th>1981.0</th>\n",
       "      <td>9.37</td>\n",
       "    </tr>\n",
       "    <tr>\n",
       "      <th>1982.0</th>\n",
       "      <td>3.55</td>\n",
       "    </tr>\n",
       "    <tr>\n",
       "      <th>1983.0</th>\n",
       "      <td>0.45</td>\n",
       "    </tr>\n",
       "    <tr>\n",
       "      <th>1984.0</th>\n",
       "      <td>27.79</td>\n",
       "    </tr>\n",
       "  </tbody>\n",
       "</table>\n",
       "</div>"
      ],
      "text/plain": [
       "        Sales_in_Millions\n",
       "Year                     \n",
       "1980.0               6.56\n",
       "1981.0               9.37\n",
       "1982.0               3.55\n",
       "1983.0               0.45\n",
       "1984.0              27.79"
      ]
     },
     "execution_count": 6,
     "metadata": {},
     "output_type": "execute_result"
    }
   ],
   "source": [
    "shooterSalesDf = pd.DataFrame()\n",
    "\n",
    "year = []\n",
    "sales = []\n",
    "for index, row in genreSalesDf.iterrows():\n",
    "    if(row[\"Genre\"]==\"Shooter\"):\n",
    "        year.append(row[\"Year\"])\n",
    "        sales.append(row[\"Sales_in_Millions\"])\n",
    "\n",
    "\n",
    "shooterSalesDf[\"Year\"] = year\n",
    "shooterSalesDf[\"Sales_in_Millions\"] = sales\n",
    "\n",
    "shooterSalesDf =shooterSalesDf.set_index(\"Year\").sort_index()\n",
    "shooterSalesDf.head()"
   ]
  },
  {
   "cell_type": "markdown",
   "metadata": {},
   "source": [
    "# Analysis"
   ]
  },
  {
   "cell_type": "markdown",
   "metadata": {},
   "source": [
    "Now let's plot our results and see how it looks so far. We also need to constrict our plot to only include ranges that exist in both frames."
   ]
  },
  {
   "cell_type": "code",
   "execution_count": 7,
   "metadata": {},
   "outputs": [
    {
     "data": {
      "text/plain": [
       "(1980, 2010)"
      ]
     },
     "execution_count": 7,
     "metadata": {},
     "output_type": "execute_result"
    },
    {
     "data": {
      "image/png": "[encoded data removed]",
      "text/plain": [
       "<Figure size 432x288 with 1 Axes>"
      ]
     },
     "metadata": {
      "needs_background": "light"
     },
     "output_type": "display_data"
    },
    {
     "data": {
      "image/png": "[encoded data removed]",
      "text/plain": [
       "<Figure size 432x288 with 1 Axes>"
      ]
     },
     "metadata": {
      "needs_background": "light"
     },
     "output_type": "display_data"
    }
   ],
   "source": [
    "ax=shooterSalesDf.plot.line()\n",
    "ax.set_xlim(1980,2010)\n",
    "\n",
    "ay = crimesOverYearsDf.plot.line()\n",
    "ay.set_xlim(1980,2010)"
   ]
  },
  {
   "cell_type": "markdown",
   "metadata": {},
   "source": [
    "So that we can compare these values, lets normalize both data sets and plot them on the same graph"
   ]
  },
  {
   "cell_type": "code",
   "execution_count": 8,
   "metadata": {},
   "outputs": [
    {
     "data": {
      "text/plain": [
       "Text(0.5, 1.0, 'Normalized Crime and Shooter Sales Over Years 1980-2010')"
      ]
     },
     "execution_count": 8,
     "metadata": {},
     "output_type": "execute_result"
    },
    {
     "data": {
      "image/png": "[encoded data removed]",
      "text/plain": [
       "<Figure size 432x288 with 1 Axes>"
      ]
     },
     "metadata": {
      "needs_background": "light"
     },
     "output_type": "display_data"
    }
   ],
   "source": [
    "normalizedCrimeDf = (crimesOverYearsDf -crimesOverYearsDf.mean())/crimesOverYearsDf.std()\n",
    "normalizedShootersDf = (shooterSalesDf -shooterSalesDf.mean())/shooterSalesDf.std()\n",
    "\n",
    "combinedNormalizedStatsDf = normalizedShootersDf\n",
    "combinedNormalizedStatsDf[\"Total_Crimes\"] = normalizedCrimeDf[\"Total_Crimes\"]\n",
    "ax=combinedNormalizedStatsDf.plot.line()\n",
    "ax.set_xlim(1980,2010)\n",
    "ax.set_title(\"Normalized Crime and Shooter Sales Over Years 1980-2010\")\n"
   ]
  },
  {
   "cell_type": "markdown",
   "metadata": {},
   "source": [
    "Now, lets setup a scatterplot of The number of violent crimes over the number of sales of violent games"
   ]
  },
  {
   "cell_type": "code",
   "execution_count": 9,
   "metadata": {
    "scrolled": true
   },
   "outputs": [
    {
     "name": "stdout",
     "output_type": "stream",
     "text": [
      "p Value = 1.2322415954974091e-06\n",
      "r Value = -0.7329335260479976\n"
     ]
    },
    {
     "data": {
      "image/png": "[encoded data removed]",
      "text/plain": [
       "<Figure size 432x288 with 1 Axes>"
      ]
     },
     "metadata": {
      "needs_background": "light"
     },
     "output_type": "display_data"
    }
   ],
   "source": [
    "combinedNormalizedStatsDf =combinedNormalizedStatsDf.reset_index()\n",
    "\n",
    "combinedNormalizedStatsDf=combinedNormalizedStatsDf[combinedNormalizedStatsDf[\"Year\"]<2013]\n",
    "combinedNormalizedStatsDf.set_index(\"Year\")\n",
    "slope, intercept, r_value, p_value, std_err = stats.linregress(combinedNormalizedStatsDf[\"Sales_in_Millions\"],combinedNormalizedStatsDf[\"Total_Crimes\"])\n",
    "line = slope*combinedNormalizedStatsDf[\"Sales_in_Millions\"]+intercept\n",
    "combinedNormalizedStatsDf.plot.scatter(x=\"Sales_in_Millions\", y=\"Total_Crimes\")\n",
    "plt.plot(combinedNormalizedStatsDf[\"Sales_in_Millions\"], line)\n",
    "\n",
    "print(\"p Value =\", p_value)\n",
    "print(\"r Value =\", r_value)"
   ]
  },
  {
   "cell_type": "markdown",
   "metadata": {},
   "source": [
    "From the scatterplot, we can actually see that there is actually a relativley high negative correlation between them!"
   ]
  },
  {
   "cell_type": "code",
   "execution_count": null,
   "metadata": {},
   "outputs": [],
   "source": []
  }
 ],
 "metadata": {
  "kernelspec": {
   "display_name": "Python 3",
   "language": "python",
   "name": "python3"
  },
  "language_info": {
   "codemirror_mode": {
    "name": "ipython",
    "version": 3
   },
   "file_extension": ".py",
   "mimetype": "text/x-python",
   "name": "python",
   "nbconvert_exporter": "python",
   "pygments_lexer": "ipython3",
   "version": "3.7.3"
  }
 },
 "nbformat": 4,
 "nbformat_minor": 2
}
